{
 "cells": [
  {
   "cell_type": "code",
   "execution_count": 1,
   "metadata": {},
   "outputs": [],
   "source": [
    "# Stock Sentiment Analysis From Finviz\n",
    "\n",
    "# Import libraries\n",
    "from urllib.request import urlopen, Request\n",
    "from bs4 import BeautifulSoup\n",
    "import pandas as pd\n",
    "import matplotlib.pyplot as plt\n",
    "# Module for sentiment Analysis\n",
    "from nltk.sentiment.vader import SentimentIntensityAnalyzer\n",
    "\n",
    "\n",
    "\n"
   ]
  },
  {
   "cell_type": "code",
   "execution_count": 4,
   "metadata": {},
   "outputs": [],
   "source": [
    "# Finviz URL to get access the page of a given stock\n",
    "finwiz_url = 'https://finviz.com/quote.ashx?t='\n",
    "\n",
    "\n",
    "# Extract the date, the time and news headline (stored in news table) for each row\n",
    "# in the HTML file and perform sentiment analysis\n",
    "# Store news-table from Finviz into a Python Dictionary\n",
    "\n",
    "news_tables = {}\n",
    "tickers = ['AMZN', 'TSLA', 'NIO', 'WKHS']\n",
    "\n",
    "for ticker in tickers:\n",
    "    url = finwiz_url + ticker\n",
    "    req = Request(url=url, headers={'user-agent': 'my-app/0.0.1'})\n",
    "    response = urlopen(req)\n",
    "    # Read the contents of the file into 'html'\n",
    "    html = BeautifulSoup(response)\n",
    "    # Find 'news-table' in the soup object and load it into 'news_table'\n",
    "    news_table = html.find(id='news-table')\n",
    "    # Add the table to our dictionary\n",
    "    news_tables[ticker] = news_table"
   ]
  },
  {
   "cell_type": "code",
   "execution_count": null,
   "metadata": {},
   "outputs": [],
   "source": [
    "# Read one single day of headlines for 'AMZN'\n",
    "amzn = news_tables['AMZN']\n",
    "\n",
    "# Get all the table rows tagged in HTML with <tr> into amzn_tr\n",
    "amzn_tr = amzn.findAll('tr')\n",
    "\n",
    "for i, table_row in enumerate(amzn_tr):\n",
    "    a_text = table_row.a.text  # Read the text of the element 'a' into 'link_text'\n",
    "    td_text = table_row.td.text # Read the text of the element 'td' into 'data_text'\n",
    "    print(a_text)  # Print contents of 'link_text'\n",
    "    print(td_text)  # Print contents of 'data_text'\n",
    "    if i == 3:  # Exit after printing 4 rows of data\n",
    "        break\n"
   ]
  },
  {
   "cell_type": "code",
   "execution_count": 5,
   "metadata": {},
   "outputs": [],
   "source": [
    "# Parse the Date, Time and News Headlines into a list\n",
    "parsed_news = []\n",
    "\n",
    "# Loop through the news\n",
    "for file_name, news_table in news_tables.items():\n",
    "    # Loop through all tr tags in 'news table'\n",
    "    for x in news_table.findAll('tr'):\n",
    "        text = x.a.get_text() # Read the text from each tr tag into text and get text from a only\n",
    "        # Split text in the td tag into a list\n",
    "        date_scrape = x.td.text.split()\n",
    "        # if the length of 'data_scrape' is 1, load 'time' as the only element\n",
    "\n",
    "\n",
    "        if len(date_scrape) == 1:\n",
    "            time = date_scrape[0]\n",
    "\n",
    "        # Else load 'date' as the first element and 'time' as the second\n",
    "        else:\n",
    "            date = date_scrape[0]\n",
    "            time = date_scrape[1]\n",
    "        # Extract the ticker from the file name, get the string up to the first '_'\n",
    "        ticker = file_name.split('_')[0]\n",
    "\n",
    "        # Append ticker, date, time and headlines as a list to the 'parsed_news' list\n",
    "        parsed_news.append([ticker, date, time, text])"
   ]
  },
  {
   "cell_type": "code",
   "execution_count": 11,
   "metadata": {},
   "outputs": [
    {
     "name": "stdout",
     "output_type": "stream",
     "text": [
      "  ticker        date     time  \\\n",
      "0   AMZN  2020-07-03  03:21PM   \n",
      "1   AMZN  2020-07-03  08:13AM   \n",
      "2   AMZN  2020-07-03  08:08AM   \n",
      "3   AMZN  2020-07-03  07:00AM   \n",
      "4   AMZN  2020-07-03  06:49AM   \n",
      "\n",
      "                                            headline    neg    neu    pos  \\\n",
      "0                        2 Hot Stocks to Buy in July  0.000  1.000  0.000   \n",
      "1  Don't Expect Explosive Growth From the Amazon ...  0.201  0.643  0.156   \n",
      "2  5 Cloud Stocks Set to Rally in the Second Half...  0.000  1.000  0.000   \n",
      "3        Balkanization Is Bad for Facebooks Business  0.412  0.588  0.000   \n",
      "4  Zooms Newest Challenger: Budding Internet Tyco...  0.000  0.824  0.176   \n",
      "\n",
      "   compound  \n",
      "0    0.0000  \n",
      "1   -0.1240  \n",
      "2    0.0000  \n",
      "3   -0.5423  \n",
      "4    0.1280  \n"
     ]
    },
    {
     "data": {
      "image/png": "[encoded data removed]",
      "text/plain": [
       "<Figure size 1440x576 with 1 Axes>"
      ]
     },
     "metadata": {
      "needs_background": "light"
     },
     "output_type": "display_data"
    }
   ],
   "source": [
    "# Run Sentiment Analysis with Vader\n",
    "\n",
    "# Initiate the sentiment intensity analyzer\n",
    "vader = SentimentIntensityAnalyzer()\n",
    "\n",
    "# Set column names\n",
    "columns = ['ticker', 'date', 'time', 'headline']\n",
    "\n",
    "# Convert the parsed_news list into a DataFrame called parsed_and_scored_news\n",
    "parsed_and_scored_news = pd.DataFrame(parsed_news, columns=columns )\n",
    "\n",
    "# Iterate through the headlines and get the polarity scores using Vader\n",
    "scores = parsed_and_scored_news['headline'].apply(vader.polarity_scores).tolist()\n",
    "\n",
    "# Convert the 'scores' list of dicts into a DataFrame\n",
    "scores_df = pd.DataFrame(scores)\n",
    "\n",
    "# Join the DataFrames of the news and the list of dicts\n",
    "parsed_and_scored_news = parsed_and_scored_news.join(scores_df, rsuffix='_right')\n",
    "\n",
    "# Convert the date column from string to datetime\n",
    "parsed_and_scored_news['date'] = pd.to_datetime(parsed_and_scored_news.date).dt.date\n",
    "\n",
    "print(parsed_and_scored_news.head())\n",
    "\n",
    "# Plot Bar Charts of the sentiment scores for each day\n",
    "# We are plotting the average of sentiment scores\n",
    "# For all news headlines collected during each date\n",
    "\n",
    "plt.rcParams['figure.figsize'] = [20, 8]\n",
    "\n",
    "# Group by date and ticker columns from scored_news and calculate the mean\n",
    "mean_scores = parsed_and_scored_news.groupby(['ticker', 'date']).mean()\n",
    "\n",
    "# Unstack the column ticker\n",
    "mean_scores = mean_scores.unstack()\n",
    "\n",
    "# Get the cross-section of compound in the 'column' axis\n",
    "mean_scores = mean_scores.xs('compound', axis='columns').transpose()\n",
    "\n",
    "# Plot a bar chart with pandas\n",
    "mean_scores.plot(kind='bar')\n",
    "plt.grid()"
   ]
  },
  {
   "cell_type": "code",
   "execution_count": null,
   "metadata": {},
   "outputs": [],
   "source": []
  }
 ],
 "metadata": {
  "kernelspec": {
   "display_name": "Python 3",
   "language": "python",
   "name": "python3"
  },
  "language_info": {
   "codemirror_mode": {
    "name": "ipython",
    "version": 3
   },
   "file_extension": ".py",
   "mimetype": "text/x-python",
   "name": "python",
   "nbconvert_exporter": "python",
   "pygments_lexer": "ipython3",
   "version": "3.7.2"
  }
 },
 "nbformat": 4,
 "nbformat_minor": 2
}
